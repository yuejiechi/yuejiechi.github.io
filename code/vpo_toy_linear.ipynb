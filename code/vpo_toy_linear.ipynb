{
 "cells": [
  {
   "cell_type": "code",
   "execution_count": 10,
   "id": "d04d2130-bea9-4a98-af15-62ab8e0ef54b",
   "metadata": {},
   "outputs": [],
   "source": [
    "import torch\n",
    "import torch.nn as nn\n",
    "import torch.nn.functional as F\n",
    "import torch.optim as optim\n",
    "\n",
    "import pandas as pd\n",
    "\n",
    "import numpy as np\n",
    "\n",
    "import math\n",
    "import seaborn as sns\n",
    "import os\n",
    "from collections import defaultdict\n",
    "from tqdm.auto import tqdm\n",
    "import matplotlib.pyplot as plt"
   ]
  },
  {
   "cell_type": "code",
   "execution_count": 2,
   "id": "a6f611de-8583-444f-8426-a4e9941d6003",
   "metadata": {},
   "outputs": [],
   "source": [
    "from joblib import Parallel, delayed\n",
    "from multiprocessing import Lock\n",
    "\n",
    "# Create a lock\n",
    "lock = Lock()"
   ]
  },
  {
   "cell_type": "code",
   "execution_count": 3,
   "id": "43d4ebd5-f5c4-433d-9712-0be359a5631f",
   "metadata": {},
   "outputs": [],
   "source": [
    "class Empty:\n",
    "    pass\n",
    "args = Empty()\n",
    "args.dim = 5\n",
    "args.num_y = 30\n",
    "args.beta = 5\n",
    "args.T = 1000\n",
    "args.K = 10\n",
    "args.dim_x = 2\n",
    "# args.alpha = math.sqrt(args.T/args.d)\n",
    "args.clip = 1.0\n",
    "args.lr = 2e-3\n",
    "args.max_optimize_iter = 50\n",
    "args.sample_batch_size = 5\n",
    "# args.optimize_batch_size = 512\n",
    "# args.adapt = 0.9\n",
    "eps = 1e-5\n",
    "\n",
    "if torch.cuda.is_available():\n",
    "    device = torch.device(\"cuda\")\n",
    "else:\n",
    "    device = torch.device(\"cpu\")"
   ]
  },
  {
   "cell_type": "code",
   "execution_count": 4,
   "id": "9cbb1b1c-a9ec-4061-a62b-8116d8ecb6e9",
   "metadata": {},
   "outputs": [],
   "source": [
    "def eval_pair(scoref, x, y_pair, gen):\n",
    "    # x    : batch_size x dim_x\n",
    "    # y_pair: batch_size x (index 1, index 2)\n",
    "    # output: batch_size  x (winner index, loser index)\n",
    "    device = y_pair.device\n",
    "    p = torch.sigmoid(scoref(x, y_pair[:,0]) - scoref(x, y_pair[:,1]))\n",
    "    outcome = torch.rand(y_pair.size()[0],device=device, generator=gen) < p\n",
    "    y_pair[outcome == 0] = y_pair[outcome == 0][:, [1, 0]]\n",
    "    return y_pair\n",
    "\n",
    "class FeatureModel(nn.Module):\n",
    "    def __init__(self, args):\n",
    "        super().__init__()\n",
    "        self.ln = nn.Linear(args.num_y + args.dim_x, args.dim)\n",
    "        self.ln.requires_grad = False\n",
    "        self.num_y = args.num_y\n",
    "\n",
    "    def forward(self, x, y):\n",
    "        with torch.no_grad():\n",
    "            feature = torch.cat((x, F.one_hot(y, num_classes=self.num_y)), dim=-1)\n",
    "            feature = self.ln(feature)\n",
    "            feature = torch.tanh(feature)\n",
    "        return feature \n",
    "\n",
    "class PolicyModel(nn.Module):\n",
    "    def __init__(self, pi_theta_ref, feature_model, args):\n",
    "        super().__init__()\n",
    "        self.args = args\n",
    "        self.feature = feature_model\n",
    "        self.pi_theta_ref = pi_theta_ref\n",
    "        self.theta = nn.Parameter(pi_theta_ref.clone())\n",
    "        self.beta = args.beta\n",
    "\n",
    "    def forward(self, x):\n",
    "        return x\n",
    "\n",
    "    def policy(self, x):\n",
    "        # x: batch_size x dim_x\n",
    "        B = x.size()[0]\n",
    "        device = x.device\n",
    "        feature = self.feature(x.repeat(1, self.args.num_y).reshape(B*self.args.num_y, self.args.dim_x),\n",
    "                              torch.arange(self.args.num_y, device=device).repeat(B))\n",
    "        logit = torch.sum(feature*self.theta, dim=1)\n",
    "        logit = logit.reshape(B, self.args.num_y)\n",
    "        policy = torch.exp(logit)\n",
    "        policy = policy/policy.sum(dim=1,keepdims=True)\n",
    "        return policy\n",
    "                \n",
    "    def clamp(self, min=-1.0, max=1.0):\n",
    "        with torch.no_grad():\n",
    "            # self.theta.data -= self.theta.data.mean()\n",
    "            self.theta.data.clamp_(self.pi_theta_ref+min, self.pi_theta_ref+max)\n",
    "    \n",
    "    def dpo_loss(self, winner_feature, loser_feature):\n",
    "        # normalized negative likelihood\n",
    "        # x:      batch_size x dim_x\n",
    "        # y_cmp : batch_size x (winner index, loser index)\n",
    "        # winner_feature = self.feature(x, y_cmp[:,0])\n",
    "        # loser_feature = self.feature(x, y_cmp[:,1])\n",
    "        diff_reward = self.beta*torch.sum((winner_feature - loser_feature)*(self.theta-self.pi_theta_ref), dim=1)\n",
    "        p = torch.sigmoid(diff_reward)\n",
    "        return -torch.mean(torch.log(p+eps))"
   ]
  },
  {
   "cell_type": "code",
   "execution_count": 5,
   "id": "fd694672-4bf3-4570-a103-4696b8516e2a",
   "metadata": {},
   "outputs": [],
   "source": [
    "def train(args, optimizer, pi_ref, policy_model, data_x, winner_feature, loser_feature, alpha = 0.0):\n",
    "    n_data = data_x.size()[0]\n",
    "    # with torch.no_grad():\n",
    "        # pi_ref = policy_ref_model.policy(data_x)\n",
    "        # winner_feature = policy_model.feature(data_x, data_y[:,0])\n",
    "        # loser_feature = policy_model.feature(data_x, data_y[:,1])\n",
    "\n",
    "    # sample_size = min(args.sample_size, data.size()[0])\n",
    "    for t in range(args.max_optimize_iter):\n",
    "        loss = policy_model.dpo_loss(winner_feature, loser_feature)\n",
    "        pi = policy_model.policy(data_x)\n",
    "        rb_loss = torch.mean(torch.sum(pi_ref * torch.log(pi), dim=1))\n",
    "        loss += rb_loss*alpha*args.beta/n_data\n",
    "\n",
    "        loss.backward()\n",
    "        # torch.nn.utils.clip_grad_norm_(policy_model.parameters(), args.clip)\n",
    "        optimizer.step()\n",
    "        optimizer.zero_grad()\n",
    "        policy_model.clamp()"
   ]
  },
  {
   "cell_type": "code",
   "execution_count": 6,
   "id": "bd538b86-5506-4e15-9dc4-f3544d908236",
   "metadata": {},
   "outputs": [],
   "source": [
    "# Function to write to the log file\n",
    "def write_to_log(df, lock, file_path):\n",
    "    with lock:\n",
    "        # Ensure thread-safe appending to the log file\n",
    "        if not os.path.exists(file_path):\n",
    "            # Write the header if the file doesn't exist\n",
    "            df.to_csv(file_path, mode='w', header=True, index=False)\n",
    "        else:\n",
    "            # Append without writing the header\n",
    "            df.to_csv(file_path, mode='a', header=False, index=False)"
   ]
  },
  {
   "cell_type": "code",
   "execution_count": 7,
   "id": "405735b5-567a-481c-b89e-cbffc2823d37",
   "metadata": {
    "scrolled": true
   },
   "outputs": [],
   "source": [
    "# regret_list_RB = {}\n",
    "# for k in range(args.K):   \n",
    "def worker(args, seed, alpha):\n",
    "    regret_list_RB = {}\n",
    "    gen = torch.Generator(device=device)\n",
    "    gen.manual_seed(seed)\n",
    "\n",
    "    feature_model = FeatureModel(args)\n",
    "    feature_model = feature_model.to(device)\n",
    "\n",
    "    pi_theta_ref = torch.rand(args.dim, generator=gen, device=device)\n",
    "    # pi_theta_ref = pi_theta_ref/pi_theta_ref.sum()\n",
    "    \n",
    "    reward_star = torch.rand(args.dim, generator=gen, device=device)\n",
    "\n",
    "    policy_star_model = PolicyModel(pi_theta_ref+reward_star/args.beta, feature_model, args).to(device)\n",
    "    policy_ref_model = PolicyModel(pi_theta_ref, feature_model, args).to(device)\n",
    "\n",
    "    scoref = lambda x, y: torch.sum(feature_model(x, y)*reward_star, dim=1)\n",
    "    # rewardf = lambda x, pi: (pi*reward_star).sum() - args.beta*(pi*(torch.log(pi) - torch.log(pi_theta_ref))).sum()\n",
    "    new_df_list = []\n",
    "        \n",
    "    norm_pi = pi_theta_ref.clone()\n",
    "    regret_list_RB[alpha] = [0] * args.T\n",
    "    policy_model = PolicyModel(pi_theta_ref, feature_model, args).to(device)\n",
    "    # optimizer = optim.Adam(policy_model.parameters(), lr=args.lr,betas=(0.9, 0.95))\n",
    "    # optimizer = optim.AdamW(policy_model.parameters(), lr=args.lr,betas=(0.9, 0.95), weight_decay=1e-2)\n",
    "    optimizer = optim.SGD(policy_model.parameters(), lr=args.lr, momentum=0.9)\n",
    "    regret = 0.0\n",
    "    for t in tqdm(range(args.T)):\n",
    "        with torch.no_grad():\n",
    "            x = torch.randn(100, args.dim_x, generator=gen, device=device)\n",
    "            pi_star = policy_star_model.policy(x)\n",
    "            pi = policy_model.policy(x)\n",
    "        regret += args.beta*torch.mean(torch.sum(pi*(torch.log(pi)-torch.log(pi_star)),dim=1))\n",
    "        regret_list_RB[alpha][t] = regret.item()\n",
    "\n",
    "        with torch.no_grad():\n",
    "            x = torch.randn(args.sample_batch_size, args.dim_x, generator=gen, device=device)\n",
    "            pi = policy_model.policy(x)\n",
    "            y_pair = torch.multinomial(pi, 2, True, generator=gen).view(args.sample_batch_size, 2)\n",
    "            y_cmp = eval_pair(scoref, x, y_pair, gen)\n",
    "            if t == 0:\n",
    "                data_x, data_y = x, y_cmp\n",
    "                winner_feature = policy_model.feature(x, y_cmp[:,0])\n",
    "                loser_feature = policy_model.feature(x, y_cmp[:,1])\n",
    "                pi_ref = policy_ref_model.policy(x)\n",
    "            else:\n",
    "                data_x = torch.cat((data_x, x), dim=0)\n",
    "                # data_y = torch.cat((data_y, y_cmp), dim=0)\n",
    "                new_winner_feature = policy_model.feature(x, y_cmp[:,0])\n",
    "                new_loser_feature = policy_model.feature(x, y_cmp[:,1])\n",
    "                new_pi_ref = policy_ref_model.policy(x)\n",
    "                winner_feature = torch.cat((winner_feature, new_winner_feature), dim=0)\n",
    "                loser_feature = torch.cat((loser_feature, new_loser_feature), dim=0)\n",
    "                pi_ref = torch.cat((pi_ref, new_pi_ref), dim=0)            \n",
    "        # with torch.no_grad():\n",
    "        #     norm_pi = args.adapt*norm_pi + (1-args.adapt)*pi\n",
    "\n",
    "        # optimize \n",
    "        train(args, optimizer, pi_ref, policy_model, data_x, winner_feature, loser_feature, alpha)\n",
    "    \n",
    "    new_df = pd.DataFrame({'regret': regret_list_RB[alpha], 'iter': range(args.T)})\n",
    "    new_df['seed'] = seed\n",
    "    new_df['alpha'] = alpha\n",
    "    new_df_list.append(new_df)\n",
    "    df = pd.concat(new_df_list)\n",
    "    write_to_log(df, lock, \"log_linear.csv\")\n",
    "    return "
   ]
  },
  {
   "cell_type": "code",
   "execution_count": 8,
   "id": "51a97d61-eb94-4006-8b9c-0bb56de4ede9",
   "metadata": {},
   "outputs": [],
   "source": [
    "if os.path.exists(\"log_linear.csv\"):\n",
    "    os.remove('log_linear.csv')"
   ]
  },
  {
   "cell_type": "code",
   "execution_count": 9,
   "id": "bf3b4f62-f406-4e09-9271-0e30499d95aa",
   "metadata": {},
   "outputs": [
    {
     "data": {
      "application/vnd.jupyter.widget-view+json": {
       "model_id": "9efac633e39a4d1c8ec4d07235e61bc4",
       "version_major": 2,
       "version_minor": 0
      },
      "text/plain": [
       "  0%|          | 0/1000 [00:00<?, ?it/s]"
      ]
     },
     "metadata": {},
     "output_type": "display_data"
    },
    {
     "data": {
      "application/vnd.jupyter.widget-view+json": {
       "model_id": "618323e0f48042d7bbd1bdf4e678342a",
       "version_major": 2,
       "version_minor": 0
      },
      "text/plain": [
       "  0%|          | 0/1000 [00:00<?, ?it/s]"
      ]
     },
     "metadata": {},
     "output_type": "display_data"
    },
    {
     "data": {
      "application/vnd.jupyter.widget-view+json": {
       "model_id": "ce10543e515748e1b128729c5c2dc9a9",
       "version_major": 2,
       "version_minor": 0
      },
      "text/plain": [
       "  0%|          | 0/1000 [00:00<?, ?it/s]"
      ]
     },
     "metadata": {},
     "output_type": "display_data"
    },
    {
     "data": {
      "application/vnd.jupyter.widget-view+json": {
       "model_id": "9ec901eaee284160a4ce6d3befc67ce7",
       "version_major": 2,
       "version_minor": 0
      },
      "text/plain": [
       "  0%|          | 0/1000 [00:00<?, ?it/s]"
      ]
     },
     "metadata": {},
     "output_type": "display_data"
    },
    {
     "data": {
      "application/vnd.jupyter.widget-view+json": {
       "model_id": "ab2de5a151ca4266a3f1bb294c74b6e1",
       "version_major": 2,
       "version_minor": 0
      },
      "text/plain": [
       "  0%|          | 0/1000 [00:00<?, ?it/s]"
      ]
     },
     "metadata": {},
     "output_type": "display_data"
    },
    {
     "data": {
      "application/vnd.jupyter.widget-view+json": {
       "model_id": "1c0e836fd3494de493b08c38690e7cd4",
       "version_major": 2,
       "version_minor": 0
      },
      "text/plain": [
       "  0%|          | 0/1000 [00:00<?, ?it/s]"
      ]
     },
     "metadata": {},
     "output_type": "display_data"
    },
    {
     "data": {
      "application/vnd.jupyter.widget-view+json": {
       "model_id": "03157be6d23c48fe80c06618bc896517",
       "version_major": 2,
       "version_minor": 0
      },
      "text/plain": [
       "  0%|          | 0/1000 [00:00<?, ?it/s]"
      ]
     },
     "metadata": {},
     "output_type": "display_data"
    },
    {
     "data": {
      "application/vnd.jupyter.widget-view+json": {
       "model_id": "572541cb4e394d2b82f2c68ff48433ea",
       "version_major": 2,
       "version_minor": 0
      },
      "text/plain": [
       "  0%|          | 0/1000 [00:00<?, ?it/s]"
      ]
     },
     "metadata": {},
     "output_type": "display_data"
    },
    {
     "data": {
      "application/vnd.jupyter.widget-view+json": {
       "model_id": "90f4cfb296bf4c46a24e9cb385b6790d",
       "version_major": 2,
       "version_minor": 0
      },
      "text/plain": [
       "  0%|          | 0/1000 [00:00<?, ?it/s]"
      ]
     },
     "metadata": {},
     "output_type": "display_data"
    },
    {
     "data": {
      "application/vnd.jupyter.widget-view+json": {
       "model_id": "cd4ee416df894d0a835823d8c959f2f9",
       "version_major": 2,
       "version_minor": 0
      },
      "text/plain": [
       "  0%|          | 0/1000 [00:00<?, ?it/s]"
      ]
     },
     "metadata": {},
     "output_type": "display_data"
    },
    {
     "data": {
      "application/vnd.jupyter.widget-view+json": {
       "model_id": "3f1f05279b484b72b1c73088efdbfd7e",
       "version_major": 2,
       "version_minor": 0
      },
      "text/plain": [
       "  0%|          | 0/1000 [00:00<?, ?it/s]"
      ]
     },
     "metadata": {},
     "output_type": "display_data"
    },
    {
     "data": {
      "application/vnd.jupyter.widget-view+json": {
       "model_id": "67356a3733794c428d8c08414bbd03ad",
       "version_major": 2,
       "version_minor": 0
      },
      "text/plain": [
       "  0%|          | 0/1000 [00:00<?, ?it/s]"
      ]
     },
     "metadata": {},
     "output_type": "display_data"
    },
    {
     "data": {
      "application/vnd.jupyter.widget-view+json": {
       "model_id": "8b28e718be6b45b19c8a647c7d828c19",
       "version_major": 2,
       "version_minor": 0
      },
      "text/plain": [
       "  0%|          | 0/1000 [00:00<?, ?it/s]"
      ]
     },
     "metadata": {},
     "output_type": "display_data"
    },
    {
     "data": {
      "application/vnd.jupyter.widget-view+json": {
       "model_id": "6dbd753e2e4d442a8ff1d1d7ba7c7a1e",
       "version_major": 2,
       "version_minor": 0
      },
      "text/plain": [
       "  0%|          | 0/1000 [00:00<?, ?it/s]"
      ]
     },
     "metadata": {},
     "output_type": "display_data"
    },
    {
     "data": {
      "application/vnd.jupyter.widget-view+json": {
       "model_id": "2272dfb5140945eca5c51dcf2490fd5b",
       "version_major": 2,
       "version_minor": 0
      },
      "text/plain": [
       "  0%|          | 0/1000 [00:00<?, ?it/s]"
      ]
     },
     "metadata": {},
     "output_type": "display_data"
    },
    {
     "data": {
      "application/vnd.jupyter.widget-view+json": {
       "model_id": "4722b16a472647b190607b59cfb96974",
       "version_major": 2,
       "version_minor": 0
      },
      "text/plain": [
       "  0%|          | 0/1000 [00:00<?, ?it/s]"
      ]
     },
     "metadata": {},
     "output_type": "display_data"
    },
    {
     "data": {
      "application/vnd.jupyter.widget-view+json": {
       "model_id": "bac463e00ee0409b97c5cf40a53314a6",
       "version_major": 2,
       "version_minor": 0
      },
      "text/plain": [
       "  0%|          | 0/1000 [00:00<?, ?it/s]"
      ]
     },
     "metadata": {},
     "output_type": "display_data"
    },
    {
     "data": {
      "application/vnd.jupyter.widget-view+json": {
       "model_id": "0415e7948b6e42f4a717ca13b1ca7852",
       "version_major": 2,
       "version_minor": 0
      },
      "text/plain": [
       "  0%|          | 0/1000 [00:00<?, ?it/s]"
      ]
     },
     "metadata": {},
     "output_type": "display_data"
    },
    {
     "data": {
      "application/vnd.jupyter.widget-view+json": {
       "model_id": "208a995fac254bc2a4455a44746a896f",
       "version_major": 2,
       "version_minor": 0
      },
      "text/plain": [
       "  0%|          | 0/1000 [00:00<?, ?it/s]"
      ]
     },
     "metadata": {},
     "output_type": "display_data"
    },
    {
     "ename": "KeyboardInterrupt",
     "evalue": "",
     "output_type": "error",
     "traceback": [
      "\u001b[1;31m---------------------------------------------------------------------------\u001b[0m",
      "\u001b[1;31mKeyboardInterrupt\u001b[0m                         Traceback (most recent call last)",
      "Cell \u001b[1;32mIn[9], line 3\u001b[0m\n\u001b[0;32m      1\u001b[0m alpha_list \u001b[38;5;241m=\u001b[39m [\u001b[38;5;241m0.0\u001b[39m, \u001b[38;5;241m1.0\u001b[39m]\n\u001b[0;32m      2\u001b[0m \u001b[38;5;66;03m# alpha_list = [1.0]\u001b[39;00m\n\u001b[1;32m----> 3\u001b[0m \u001b[43mParallel\u001b[49m\u001b[43m(\u001b[49m\u001b[43mn_jobs\u001b[49m\u001b[38;5;241;43m=\u001b[39;49m\u001b[38;5;241;43m2\u001b[39;49m\u001b[43m,\u001b[49m\u001b[43m \u001b[49m\u001b[43mprefer\u001b[49m\u001b[38;5;241;43m=\u001b[39;49m\u001b[38;5;124;43m\"\u001b[39;49m\u001b[38;5;124;43mthreads\u001b[39;49m\u001b[38;5;124;43m\"\u001b[39;49m\u001b[43m)\u001b[49m\u001b[43m(\u001b[49m\n\u001b[0;32m      4\u001b[0m \u001b[43m    \u001b[49m\u001b[43mdelayed\u001b[49m\u001b[43m(\u001b[49m\u001b[43mworker\u001b[49m\u001b[43m)\u001b[49m\u001b[43m(\u001b[49m\u001b[43margs\u001b[49m\u001b[43m,\u001b[49m\u001b[43m \u001b[49m\u001b[43mk\u001b[49m\u001b[43m,\u001b[49m\u001b[43m \u001b[49m\u001b[43malpha\u001b[49m\u001b[43m)\u001b[49m\u001b[43m \u001b[49m\n\u001b[0;32m      5\u001b[0m \u001b[43m    \u001b[49m\u001b[38;5;28;43;01mfor\u001b[39;49;00m\u001b[43m \u001b[49m\u001b[43mk\u001b[49m\u001b[43m \u001b[49m\u001b[38;5;129;43;01min\u001b[39;49;00m\u001b[43m \u001b[49m\u001b[38;5;28;43mrange\u001b[39;49m\u001b[43m(\u001b[49m\u001b[38;5;241;43m0\u001b[39;49m\u001b[43m,\u001b[49m\u001b[38;5;241;43m30\u001b[39;49m\u001b[43m)\u001b[49m\u001b[43m \u001b[49m\n\u001b[0;32m      6\u001b[0m \u001b[43m    \u001b[49m\u001b[38;5;28;43;01mfor\u001b[39;49;00m\u001b[43m \u001b[49m\u001b[43malpha\u001b[49m\u001b[43m \u001b[49m\u001b[38;5;129;43;01min\u001b[39;49;00m\u001b[43m \u001b[49m\u001b[43malpha_list\u001b[49m\n\u001b[0;32m      7\u001b[0m \u001b[43m)\u001b[49m\n\u001b[0;32m      8\u001b[0m \u001b[38;5;66;03m# new_df = pd.concat(df_list)\u001b[39;00m\n\u001b[0;32m      9\u001b[0m \u001b[38;5;66;03m# try:\u001b[39;00m\n\u001b[0;32m     10\u001b[0m \u001b[38;5;66;03m#     df = pd.read_csv(\"log_linear.csv\")\u001b[39;00m\n\u001b[1;32m   (...)\u001b[0m\n\u001b[0;32m     13\u001b[0m \u001b[38;5;66;03m#     df = new_df\u001b[39;00m\n\u001b[0;32m     14\u001b[0m \u001b[38;5;66;03m# new_df.to_csv(\"log_linear.csv\", index=False)\u001b[39;00m\n",
      "File \u001b[1;32m~\\Projects\\test\\lib\\site-packages\\joblib\\parallel.py:1952\u001b[0m, in \u001b[0;36mParallel.__call__\u001b[1;34m(self, iterable)\u001b[0m\n\u001b[0;32m   1946\u001b[0m \u001b[38;5;66;03m# The first item from the output is blank, but it makes the interpreter\u001b[39;00m\n\u001b[0;32m   1947\u001b[0m \u001b[38;5;66;03m# progress until it enters the Try/Except block of the generator and\u001b[39;00m\n\u001b[0;32m   1948\u001b[0m \u001b[38;5;66;03m# reach the first `yield` statement. This starts the aynchronous\u001b[39;00m\n\u001b[0;32m   1949\u001b[0m \u001b[38;5;66;03m# dispatch of the tasks to the workers.\u001b[39;00m\n\u001b[0;32m   1950\u001b[0m \u001b[38;5;28mnext\u001b[39m(output)\n\u001b[1;32m-> 1952\u001b[0m \u001b[38;5;28;01mreturn\u001b[39;00m output \u001b[38;5;28;01mif\u001b[39;00m \u001b[38;5;28mself\u001b[39m\u001b[38;5;241m.\u001b[39mreturn_generator \u001b[38;5;28;01melse\u001b[39;00m \u001b[38;5;28;43mlist\u001b[39;49m\u001b[43m(\u001b[49m\u001b[43moutput\u001b[49m\u001b[43m)\u001b[49m\n",
      "File \u001b[1;32m~\\Projects\\test\\lib\\site-packages\\joblib\\parallel.py:1595\u001b[0m, in \u001b[0;36mParallel._get_outputs\u001b[1;34m(self, iterator, pre_dispatch)\u001b[0m\n\u001b[0;32m   1592\u001b[0m     \u001b[38;5;28;01myield\u001b[39;00m\n\u001b[0;32m   1594\u001b[0m     \u001b[38;5;28;01mwith\u001b[39;00m \u001b[38;5;28mself\u001b[39m\u001b[38;5;241m.\u001b[39m_backend\u001b[38;5;241m.\u001b[39mretrieval_context():\n\u001b[1;32m-> 1595\u001b[0m         \u001b[38;5;28;01myield from\u001b[39;00m \u001b[38;5;28mself\u001b[39m\u001b[38;5;241m.\u001b[39m_retrieve()\n\u001b[0;32m   1597\u001b[0m \u001b[38;5;28;01mexcept\u001b[39;00m \u001b[38;5;167;01mGeneratorExit\u001b[39;00m:\n\u001b[0;32m   1598\u001b[0m     \u001b[38;5;66;03m# The generator has been garbage collected before being fully\u001b[39;00m\n\u001b[0;32m   1599\u001b[0m     \u001b[38;5;66;03m# consumed. This aborts the remaining tasks if possible and warn\u001b[39;00m\n\u001b[0;32m   1600\u001b[0m     \u001b[38;5;66;03m# the user if necessary.\u001b[39;00m\n\u001b[0;32m   1601\u001b[0m     \u001b[38;5;28mself\u001b[39m\u001b[38;5;241m.\u001b[39m_exception \u001b[38;5;241m=\u001b[39m \u001b[38;5;28;01mTrue\u001b[39;00m\n",
      "File \u001b[1;32m~\\Projects\\test\\lib\\site-packages\\joblib\\parallel.py:1707\u001b[0m, in \u001b[0;36mParallel._retrieve\u001b[1;34m(self)\u001b[0m\n\u001b[0;32m   1702\u001b[0m \u001b[38;5;66;03m# If the next job is not ready for retrieval yet, we just wait for\u001b[39;00m\n\u001b[0;32m   1703\u001b[0m \u001b[38;5;66;03m# async callbacks to progress.\u001b[39;00m\n\u001b[0;32m   1704\u001b[0m \u001b[38;5;28;01mif\u001b[39;00m ((\u001b[38;5;28mlen\u001b[39m(\u001b[38;5;28mself\u001b[39m\u001b[38;5;241m.\u001b[39m_jobs) \u001b[38;5;241m==\u001b[39m \u001b[38;5;241m0\u001b[39m) \u001b[38;5;129;01mor\u001b[39;00m\n\u001b[0;32m   1705\u001b[0m     (\u001b[38;5;28mself\u001b[39m\u001b[38;5;241m.\u001b[39m_jobs[\u001b[38;5;241m0\u001b[39m]\u001b[38;5;241m.\u001b[39mget_status(\n\u001b[0;32m   1706\u001b[0m         timeout\u001b[38;5;241m=\u001b[39m\u001b[38;5;28mself\u001b[39m\u001b[38;5;241m.\u001b[39mtimeout) \u001b[38;5;241m==\u001b[39m TASK_PENDING)):\n\u001b[1;32m-> 1707\u001b[0m     \u001b[43mtime\u001b[49m\u001b[38;5;241;43m.\u001b[39;49m\u001b[43msleep\u001b[49m\u001b[43m(\u001b[49m\u001b[38;5;241;43m0.01\u001b[39;49m\u001b[43m)\u001b[49m\n\u001b[0;32m   1708\u001b[0m     \u001b[38;5;28;01mcontinue\u001b[39;00m\n\u001b[0;32m   1710\u001b[0m \u001b[38;5;66;03m# We need to be careful: the job list can be filling up as\u001b[39;00m\n\u001b[0;32m   1711\u001b[0m \u001b[38;5;66;03m# we empty it and Python list are not thread-safe by\u001b[39;00m\n\u001b[0;32m   1712\u001b[0m \u001b[38;5;66;03m# default hence the use of the lock\u001b[39;00m\n",
      "\u001b[1;31mKeyboardInterrupt\u001b[0m: "
     ]
    }
   ],
   "source": [
    "alpha_list = [0.0, 1.0]\n",
    "Parallel(n_jobs=2, prefer=\"threads\")(\n",
    "    delayed(worker)(args, k, alpha) \n",
    "    for k in range(10) \n",
    "    for alpha in alpha_list\n",
    ")"
   ]
  },
  {
   "cell_type": "code",
   "execution_count": 11,
   "id": "d6f27bd0-085a-4323-affe-058af768c46b",
   "metadata": {},
   "outputs": [
    {
     "name": "stderr",
     "output_type": "stream",
     "text": [
      "C:\\Users\\NoctiZen\\AppData\\Local\\Temp\\ipykernel_2776\\3930199930.py:17: UserWarning: The palette list has more values (3) than needed (2), which may not be intended.\n",
      "  gfg = sns.lineplot(x=\"iter\", y=\"regret\", hue=\"alpha\", style=\"alpha\",\n"
     ]
    },
    {
     "data": {
      "image/png": "[encoded data removed]",
      "text/plain": [
       "<Figure size 400x300 with 1 Axes>"
      ]
     },
     "metadata": {},
     "output_type": "display_data"
    }
   ],
   "source": [
    "df = pd.read_csv(\"log_linear.csv\")\n",
    "alpha_list = [0.0, 1.0]\n",
    "tmpdf = df[df['alpha'].isin(alpha_list)]\n",
    "plt.rcParams.update({\n",
    "    \"text.usetex\": True,\n",
    "    \"font.family\": \"Helvetica\",\n",
    "    \"font.size\": 12,\n",
    "    \"figure.figsize\": (4,3)\n",
    "})\n",
    "# tweak plotting order\n",
    "tmpdf['alpha'] = -tmpdf['alpha']\n",
    "palette = sns.color_palette()\n",
    "gfg = sns.lineplot(x=\"iter\", y=\"regret\", hue=\"alpha\", style=\"alpha\",\n",
    "             data=tmpdf, palette=['tab:blue','tab:grey','tab:green'],errorbar=\"se\")\n",
    "# gfg = sns.lineplot(x=\"iter\", y=\"regret\", hue=\"alpha\", style=\"alpha\",\n",
    "#              data=tmpdf)\n",
    "gfg.set_xlabel('Number of Iterations')\n",
    "gfg.set_ylabel('Cumulative Regret')\n",
    "# gfg.set_ylim([0,80])\n",
    "# gfg.set_xlim([0,200])\n",
    "lgd = gfg.legend()\n",
    "# gfg.legend().set_title(None)\n",
    "# replace labels\n",
    "new_labels = [f'VPO $\\\\alpha={alpha}$' if alpha != 0.0 else 'MLE' for alpha in alpha_list[::-1]]\n",
    "for t, l in zip(lgd.texts, new_labels):\n",
    "    t.set_text(l)\n",
    "# lgd.set_loc(2)\n",
    "plt.tight_layout()\n",
    "plt.savefig('linear.pdf')"
   ]
  },
  {
   "cell_type": "code",
   "execution_count": null,
   "id": "511e60a3-2f48-4415-b7a0-fb1657473445",
   "metadata": {},
   "outputs": [],
   "source": []
  }
 ],
 "metadata": {
  "kernelspec": {
   "display_name": "Python 3 (ipykernel)",
   "language": "python",
   "name": "python3"
  },
  "language_info": {
   "codemirror_mode": {
    "name": "ipython",
    "version": 3
   },
   "file_extension": ".py",
   "mimetype": "text/x-python",
   "name": "python",
   "nbconvert_exporter": "python",
   "pygments_lexer": "ipython3",
   "version": "3.10.10"
  }
 },
 "nbformat": 4,
 "nbformat_minor": 5
}
